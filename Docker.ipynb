{
 "cells": [
  {
   "cell_type": "markdown",
   "id": "031e297e",
   "metadata": {},
   "source": [
    "# Hello, Docker"
   ]
  },
  {
   "cell_type": "raw",
   "id": "87e8124f",
   "metadata": {},
   "source": [
    "First approach to create ML app."
   ]
  },
  {
   "cell_type": "markdown",
   "id": "56680c53",
   "metadata": {},
   "source": [
    "# Libraries & Constant"
   ]
  },
  {
   "cell_type": "code",
   "execution_count": 1,
   "id": "34bff686",
   "metadata": {},
   "outputs": [],
   "source": [
    "#Paths to data and bins files\n",
    "path = \"data_folder\"\n",
    "bin_path = \"bins_folder\""
   ]
  },
  {
   "cell_type": "code",
   "execution_count": 2,
   "id": "8a157ade",
   "metadata": {},
   "outputs": [],
   "source": [
    "#General purpose\n",
    "import pandas as pd\n",
    "\n",
    "#Preprocessing\n",
    "from sklearn import preprocessing\n",
    "\n",
    "#Model\n",
    "from sklearn.neural_network import MLPClassifier\n",
    "\n",
    "#Metrics\n",
    "from sklearn.metrics import classification_report\n",
    "\n",
    "#Export\n",
    "import joblib"
   ]
  },
  {
   "cell_type": "markdown",
   "id": "608de5ea",
   "metadata": {
    "heading_collapsed": true
   },
   "source": [
    "# Import data"
   ]
  },
  {
   "cell_type": "code",
   "execution_count": 3,
   "id": "628f51aa",
   "metadata": {
    "hidden": true
   },
   "outputs": [
    {
     "data": {
      "text/html": [
       "<div><div id=3dd7736b-d1db-499b-ab4e-9169726c370b style=\"display:none; background-color:#9D6CFF; color:white; width:200px; height:30px; padding-left:5px; border-radius:4px; flex-direction:row; justify-content:space-around; align-items:center;\" onmouseover=\"this.style.backgroundColor='#BA9BF8'\" onmouseout=\"this.style.backgroundColor='#9D6CFF'\" onclick=\"window.commands?.execute('create-mitosheet-from-dataframe-output');\">See Full Dataframe in Mito</div> <script> if (window.commands.hasCommand('create-mitosheet-from-dataframe-output')) document.getElementById('3dd7736b-d1db-499b-ab4e-9169726c370b').style.display = 'flex' </script> <table border=\"1\" class=\"dataframe\">\n",
       "  <thead>\n",
       "    <tr style=\"text-align: right;\">\n",
       "      <th></th>\n",
       "      <th>Line</th>\n",
       "      <th># Letter</th>\n",
       "      <th>Cz/theta</th>\n",
       "      <th>Cz/alpha</th>\n",
       "      <th>Cz/betaL</th>\n",
       "      <th>Cz/betaH</th>\n",
       "      <th>Cz/gamma</th>\n",
       "      <th>Fz/theta</th>\n",
       "      <th>Fz/alpha</th>\n",
       "      <th>Fz/betaL</th>\n",
       "      <th>...</th>\n",
       "      <th>F8/theta</th>\n",
       "      <th>F8/alpha</th>\n",
       "      <th>F8/betaL</th>\n",
       "      <th>F8/betaH</th>\n",
       "      <th>F8/gamma</th>\n",
       "      <th>Fp2/theta</th>\n",
       "      <th>Fp2/alpha</th>\n",
       "      <th>Fp2/betaL</th>\n",
       "      <th>Fp2/betaH</th>\n",
       "      <th>Fp2/gamma</th>\n",
       "    </tr>\n",
       "  </thead>\n",
       "  <tbody>\n",
       "    <tr>\n",
       "      <th>0</th>\n",
       "      <td>0</td>\n",
       "      <td>0</td>\n",
       "      <td>0.946</td>\n",
       "      <td>0.454</td>\n",
       "      <td>0.810</td>\n",
       "      <td>1.152</td>\n",
       "      <td>0.328</td>\n",
       "      <td>3.354</td>\n",
       "      <td>0.774</td>\n",
       "      <td>1.313</td>\n",
       "      <td>...</td>\n",
       "      <td>2.021</td>\n",
       "      <td>2.161</td>\n",
       "      <td>2.564</td>\n",
       "      <td>4.582</td>\n",
       "      <td>5.185</td>\n",
       "      <td>2.267</td>\n",
       "      <td>0.170</td>\n",
       "      <td>1.449</td>\n",
       "      <td>2.684</td>\n",
       "      <td>7.827</td>\n",
       "    </tr>\n",
       "    <tr>\n",
       "      <th>1</th>\n",
       "      <td>1</td>\n",
       "      <td>0</td>\n",
       "      <td>0.695</td>\n",
       "      <td>0.408</td>\n",
       "      <td>0.778</td>\n",
       "      <td>1.070</td>\n",
       "      <td>0.331</td>\n",
       "      <td>3.612</td>\n",
       "      <td>0.686</td>\n",
       "      <td>1.798</td>\n",
       "      <td>...</td>\n",
       "      <td>2.018</td>\n",
       "      <td>1.598</td>\n",
       "      <td>2.572</td>\n",
       "      <td>4.422</td>\n",
       "      <td>5.087</td>\n",
       "      <td>2.062</td>\n",
       "      <td>0.314</td>\n",
       "      <td>1.606</td>\n",
       "      <td>2.401</td>\n",
       "      <td>7.633</td>\n",
       "    </tr>\n",
       "    <tr>\n",
       "      <th>2</th>\n",
       "      <td>2</td>\n",
       "      <td>0</td>\n",
       "      <td>0.515</td>\n",
       "      <td>0.425</td>\n",
       "      <td>0.719</td>\n",
       "      <td>1.086</td>\n",
       "      <td>0.329</td>\n",
       "      <td>2.583</td>\n",
       "      <td>0.481</td>\n",
       "      <td>1.836</td>\n",
       "      <td>...</td>\n",
       "      <td>2.115</td>\n",
       "      <td>1.629</td>\n",
       "      <td>2.245</td>\n",
       "      <td>4.220</td>\n",
       "      <td>4.955</td>\n",
       "      <td>2.000</td>\n",
       "      <td>0.578</td>\n",
       "      <td>1.448</td>\n",
       "      <td>2.226</td>\n",
       "      <td>7.464</td>\n",
       "    </tr>\n",
       "    <tr>\n",
       "      <th>3</th>\n",
       "      <td>3</td>\n",
       "      <td>0</td>\n",
       "      <td>0.502</td>\n",
       "      <td>0.405</td>\n",
       "      <td>0.614</td>\n",
       "      <td>1.111</td>\n",
       "      <td>0.326</td>\n",
       "      <td>1.719</td>\n",
       "      <td>0.386</td>\n",
       "      <td>1.664</td>\n",
       "      <td>...</td>\n",
       "      <td>2.260</td>\n",
       "      <td>2.330</td>\n",
       "      <td>2.155</td>\n",
       "      <td>4.207</td>\n",
       "      <td>4.891</td>\n",
       "      <td>2.655</td>\n",
       "      <td>0.931</td>\n",
       "      <td>1.314</td>\n",
       "      <td>2.112</td>\n",
       "      <td>7.459</td>\n",
       "    </tr>\n",
       "    <tr>\n",
       "      <th>4</th>\n",
       "      <td>4</td>\n",
       "      <td>0</td>\n",
       "      <td>0.610</td>\n",
       "      <td>0.401</td>\n",
       "      <td>0.509</td>\n",
       "      <td>1.086</td>\n",
       "      <td>0.359</td>\n",
       "      <td>1.745</td>\n",
       "      <td>0.703</td>\n",
       "      <td>1.703</td>\n",
       "      <td>...</td>\n",
       "      <td>2.515</td>\n",
       "      <td>3.254</td>\n",
       "      <td>2.775</td>\n",
       "      <td>4.440</td>\n",
       "      <td>4.954</td>\n",
       "      <td>3.407</td>\n",
       "      <td>1.377</td>\n",
       "      <td>1.615</td>\n",
       "      <td>2.059</td>\n",
       "      <td>7.520</td>\n",
       "    </tr>\n",
       "  </tbody>\n",
       "</table></div>"
      ],
      "text/plain": [
       "   Line  # Letter   Cz/theta   Cz/alpha   Cz/betaL   Cz/betaH   Cz/gamma  \\\n",
       "0     0         0      0.946      0.454      0.810      1.152      0.328   \n",
       "1     1         0      0.695      0.408      0.778      1.070      0.331   \n",
       "2     2         0      0.515      0.425      0.719      1.086      0.329   \n",
       "3     3         0      0.502      0.405      0.614      1.111      0.326   \n",
       "4     4         0      0.610      0.401      0.509      1.086      0.359   \n",
       "\n",
       "    Fz/theta   Fz/alpha   Fz/betaL  ...   F8/theta   F8/alpha   F8/betaL  \\\n",
       "0      3.354      0.774      1.313  ...      2.021      2.161      2.564   \n",
       "1      3.612      0.686      1.798  ...      2.018      1.598      2.572   \n",
       "2      2.583      0.481      1.836  ...      2.115      1.629      2.245   \n",
       "3      1.719      0.386      1.664  ...      2.260      2.330      2.155   \n",
       "4      1.745      0.703      1.703  ...      2.515      3.254      2.775   \n",
       "\n",
       "    F8/betaH   F8/gamma   Fp2/theta   Fp2/alpha   Fp2/betaL   Fp2/betaH  \\\n",
       "0      4.582      5.185       2.267       0.170       1.449       2.684   \n",
       "1      4.422      5.087       2.062       0.314       1.606       2.401   \n",
       "2      4.220      4.955       2.000       0.578       1.448       2.226   \n",
       "3      4.207      4.891       2.655       0.931       1.314       2.112   \n",
       "4      4.440      4.954       3.407       1.377       1.615       2.059   \n",
       "\n",
       "    Fp2/gamma  \n",
       "0       7.827  \n",
       "1       7.633  \n",
       "2       7.464  \n",
       "3       7.459  \n",
       "4       7.520  \n",
       "\n",
       "[5 rows x 162 columns]"
      ]
     },
     "execution_count": 3,
     "metadata": {},
     "output_type": "execute_result"
    }
   ],
   "source": [
    "#Import train file\n",
    "df = pd.read_csv(path+\"\\\\train.csv\")\n",
    "df.head()"
   ]
  },
  {
   "cell_type": "code",
   "execution_count": 4,
   "id": "f461a595",
   "metadata": {
    "hidden": true
   },
   "outputs": [],
   "source": [
    "#Import test file\n",
    "df_test = pd.read_csv(path+\"\\\\test.csv\")"
   ]
  },
  {
   "cell_type": "markdown",
   "id": "25595547",
   "metadata": {
    "heading_collapsed": true
   },
   "source": [
    "# EDA"
   ]
  },
  {
   "cell_type": "code",
   "execution_count": 5,
   "id": "957ff899",
   "metadata": {
    "hidden": true
   },
   "outputs": [
    {
     "name": "stdout",
     "output_type": "stream",
     "text": [
      "<class 'pandas.core.frame.DataFrame'>\n",
      "RangeIndex: 1300 entries, 0 to 1299\n",
      "Columns: 162 entries, Line to  Fp2/gamma\n",
      "dtypes: float64(160), int64(2)\n",
      "memory usage: 1.6 MB\n"
     ]
    }
   ],
   "source": [
    "df.info()"
   ]
  },
  {
   "cell_type": "code",
   "execution_count": 6,
   "id": "2f890634",
   "metadata": {
    "hidden": true
   },
   "outputs": [
    {
     "data": {
      "text/plain": [
       "array([ 0,  1,  2,  3,  4,  5,  6,  7,  8,  9, 10, 11, 12, 13, 14, 15, 16,\n",
       "       17, 18, 19, 20, 21, 22, 23, 24, 25], dtype=int64)"
      ]
     },
     "execution_count": 6,
     "metadata": {},
     "output_type": "execute_result"
    }
   ],
   "source": [
    "#Check target\n",
    "df['# Letter'].unique()"
   ]
  },
  {
   "cell_type": "code",
   "execution_count": 7,
   "id": "006fb0bc",
   "metadata": {
    "hidden": true
   },
   "outputs": [
    {
     "data": {
      "text/plain": [
       "<AxesSubplot:>"
      ]
     },
     "execution_count": 7,
     "metadata": {},
     "output_type": "execute_result"
    },
    {
     "data": {
      "image/png": "[encoded data removed]",
      "text/plain": [
       "<Figure size 432x288 with 1 Axes>"
      ]
     },
     "metadata": {
      "needs_background": "light"
     },
     "output_type": "display_data"
    }
   ],
   "source": [
    "#Check target balance\n",
    "df['# Letter'].hist()"
   ]
  },
  {
   "cell_type": "code",
   "execution_count": 8,
   "id": "9d690ca4",
   "metadata": {
    "hidden": true
   },
   "outputs": [
    {
     "data": {
      "text/plain": [
       "<AxesSubplot:>"
      ]
     },
     "execution_count": 8,
     "metadata": {},
     "output_type": "execute_result"
    },
    {
     "data": {
      "image/png": "[encoded data removed]",
      "text/plain": [
       "<Figure size 432x288 with 1 Axes>"
      ]
     },
     "metadata": {
      "needs_background": "light"
     },
     "output_type": "display_data"
    }
   ],
   "source": [
    "#Check if this feature is useful\n",
    "df['Line'].hist()"
   ]
  },
  {
   "cell_type": "markdown",
   "id": "6e65983c",
   "metadata": {
    "heading_collapsed": true
   },
   "source": [
    "# ETL"
   ]
  },
  {
   "cell_type": "code",
   "execution_count": 9,
   "id": "aa102fb7",
   "metadata": {
    "hidden": true
   },
   "outputs": [],
   "source": [
    "#Drop not necessary feature\n",
    "df.drop('Line',axis=1,inplace=True)\n",
    "df_test.drop('Line',axis=1,inplace=True)"
   ]
  },
  {
   "cell_type": "code",
   "execution_count": 10,
   "id": "857085a7",
   "metadata": {
    "hidden": true
   },
   "outputs": [],
   "source": [
    "#Differentiate features and target\n",
    "y_train = df['# Letter'].values\n",
    "X_train = df.drop('# Letter', axis = 1)"
   ]
  },
  {
   "cell_type": "code",
   "execution_count": 11,
   "id": "c4a64b1a",
   "metadata": {
    "hidden": true
   },
   "outputs": [
    {
     "name": "stdout",
     "output_type": "stream",
     "text": [
      "(1300, 160)\n",
      "(1300,)\n"
     ]
    }
   ],
   "source": [
    "print(X_train.shape)\n",
    "print(y_train.shape)"
   ]
  },
  {
   "cell_type": "code",
   "execution_count": 12,
   "id": "42708596",
   "metadata": {
    "hidden": true
   },
   "outputs": [],
   "source": [
    "# Data normalization (0,1)\n",
    "X_train = preprocessing.normalize(X_train, norm='l2')"
   ]
  },
  {
   "cell_type": "markdown",
   "id": "019fb63e",
   "metadata": {
    "heading_collapsed": true
   },
   "source": [
    "# Model"
   ]
  },
  {
   "cell_type": "code",
   "execution_count": 13,
   "id": "0c40b935",
   "metadata": {
    "hidden": true
   },
   "outputs": [],
   "source": [
    "# Neural Networks multi-layer perceptron (MLP) algorithm\n",
    "clf_NN = MLPClassifier(solver='adam', \n",
    "                       activation='logistic', \n",
    "                       alpha=0.001, \n",
    "                       hidden_layer_sizes=(500,), \n",
    "                       random_state=0, \n",
    "                       max_iter=1000)"
   ]
  },
  {
   "cell_type": "code",
   "execution_count": 14,
   "id": "76090526",
   "metadata": {
    "hidden": true
   },
   "outputs": [
    {
     "name": "stderr",
     "output_type": "stream",
     "text": [
      "C:\\ProgramData\\Anaconda3\\lib\\site-packages\\sklearn\\neural_network\\_multilayer_perceptron.py:692: ConvergenceWarning: Stochastic Optimizer: Maximum iterations (1000) reached and the optimization hasn't converged yet.\n",
      "  warnings.warn(\n"
     ]
    },
    {
     "data": {
      "text/plain": [
       "MLPClassifier(activation='logistic', alpha=0.001, hidden_layer_sizes=(500,),\n",
       "              max_iter=1000, random_state=0)"
      ]
     },
     "execution_count": 14,
     "metadata": {},
     "output_type": "execute_result"
    }
   ],
   "source": [
    "clf_NN.fit(X_train, y_train)"
   ]
  },
  {
   "cell_type": "markdown",
   "id": "957b58a7",
   "metadata": {
    "heading_collapsed": true
   },
   "source": [
    "# Metrics"
   ]
  },
  {
   "cell_type": "code",
   "execution_count": 15,
   "id": "8fa4df82",
   "metadata": {
    "hidden": true
   },
   "outputs": [],
   "source": [
    "#Prepare test data\n",
    "y_test = df_test['# Letter'].values\n",
    "X_test = df_test.drop('# Letter', axis = 1)"
   ]
  },
  {
   "cell_type": "code",
   "execution_count": 16,
   "id": "de8d5f5f",
   "metadata": {
    "hidden": true
   },
   "outputs": [],
   "source": [
    "X_test = preprocessing.normalize(X_test, norm='l2')"
   ]
  },
  {
   "cell_type": "code",
   "execution_count": 17,
   "id": "5f177e18",
   "metadata": {
    "hidden": true
   },
   "outputs": [],
   "source": [
    "y_pred = clf_NN.predict(X_test)"
   ]
  },
  {
   "cell_type": "code",
   "execution_count": 18,
   "id": "55bc9b6e",
   "metadata": {
    "hidden": true
   },
   "outputs": [
    {
     "name": "stdout",
     "output_type": "stream",
     "text": [
      "              precision    recall  f1-score   support\n",
      "\n",
      "           0       0.72      0.98      0.83        50\n",
      "           1       1.00      0.62      0.77        50\n",
      "           2       0.90      0.86      0.88        50\n",
      "           3       0.08      0.10      0.09        50\n",
      "           4       0.33      0.08      0.13        50\n",
      "           5       0.37      0.40      0.38        50\n",
      "           6       0.71      0.78      0.74        50\n",
      "           7       0.16      0.20      0.18        50\n",
      "           8       0.40      0.56      0.47        50\n",
      "           9       0.50      0.58      0.54        50\n",
      "          10       0.52      0.32      0.40        50\n",
      "          11       0.55      0.54      0.55        50\n",
      "          12       0.74      0.68      0.71        50\n",
      "          13       0.68      0.76      0.72        50\n",
      "          14       0.45      0.26      0.33        50\n",
      "          15       0.05      0.04      0.04        50\n",
      "          16       0.00      0.00      0.00        50\n",
      "          17       0.88      0.98      0.92        50\n",
      "          18       1.00      1.00      1.00        50\n",
      "          19       1.00      1.00      1.00        50\n",
      "          20       1.00      1.00      1.00        50\n",
      "          21       1.00      1.00      1.00        50\n",
      "          22       0.92      0.72      0.81        50\n",
      "          23       0.84      0.94      0.89        50\n",
      "          24       0.78      0.94      0.85        50\n",
      "          25       0.93      0.74      0.82        50\n",
      "\n",
      "    accuracy                           0.62      1300\n",
      "   macro avg       0.63      0.62      0.62      1300\n",
      "weighted avg       0.63      0.62      0.62      1300\n",
      "\n"
     ]
    }
   ],
   "source": [
    "print(classification_report(y_test, y_pred))"
   ]
  },
  {
   "cell_type": "markdown",
   "id": "6e2ff005",
   "metadata": {},
   "source": [
    "# Export"
   ]
  },
  {
   "cell_type": "code",
   "execution_count": 19,
   "id": "ef760d24",
   "metadata": {},
   "outputs": [
    {
     "data": {
      "text/plain": [
       "['D:\\\\NTT\\\\HelloDocker\\\\FirstDocker\\\\bin\\\\NN_model.pkl']"
      ]
     },
     "execution_count": 19,
     "metadata": {},
     "output_type": "execute_result"
    }
   ],
   "source": [
    "#Para guardar el modelo sin tener que reentrenar\n",
    "joblib.dump(clf_NN, bin_path+'\\\\NN_model.pkl')"
   ]
  },
  {
   "cell_type": "code",
   "execution_count": null,
   "id": "43924d96",
   "metadata": {},
   "outputs": [],
   "source": []
  }
 ],
 "metadata": {
  "kernelspec": {
   "display_name": "Python 3 (ipykernel)",
   "language": "python",
   "name": "python3"
  },
  "language_info": {
   "codemirror_mode": {
    "name": "ipython",
    "version": 3
   },
   "file_extension": ".py",
   "mimetype": "text/x-python",
   "name": "python",
   "nbconvert_exporter": "python",
   "pygments_lexer": "ipython3",
   "version": "3.8.10"
  },
  "latex_envs": {
   "LaTeX_envs_menu_present": true,
   "autoclose": false,
   "autocomplete": true,
   "bibliofile": "biblio.bib",
   "cite_by": "apalike",
   "current_citInitial": 1,
   "eqLabelWithNumbers": true,
   "eqNumInitial": 1,
   "hotkeys": {
    "equation": "Ctrl-E",
    "itemize": "Ctrl-I"
   },
   "labels_anchors": false,
   "latex_user_defs": false,
   "report_style_numbering": false,
   "user_envs_cfg": false
  }
 },
 "nbformat": 4,
 "nbformat_minor": 5
}
